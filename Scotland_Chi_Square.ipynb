{
  "nbformat": 4,
  "nbformat_minor": 0,
  "metadata": {
    "anaconda-cloud": {},
    "kernelspec": {
      "display_name": "Python 3",
      "language": "python",
      "name": "python3"
    },
    "language_info": {
      "codemirror_mode": {
        "name": "ipython",
        "version": 3
      },
      "file_extension": ".py",
      "mimetype": "text/x-python",
      "name": "python",
      "nbconvert_exporter": "python",
      "pygments_lexer": "ipython3",
      "version": "3.7.4"
    },
    "colab": {
      "name": "Scotland_Chi_Square.ipynb",
      "provenance": [],
      "include_colab_link": true
    }
  },
  "cells": [
    {
      "cell_type": "markdown",
      "metadata": {
        "id": "view-in-github",
        "colab_type": "text"
      },
      "source": [
        "<a href=\"https://colab.research.google.com/github/Lord-of-Lite/6_Nations_Data_Challenge/blob/main/Scotland_Chi_Square.ipynb\" target=\"_parent\"><img src=\"https://colab.research.google.com/assets/colab-badge.svg\" alt=\"Open In Colab\"/></a>"
      ]
    },
    {
      "cell_type": "markdown",
      "metadata": {
        "id": "zraPDMK0MiPE"
      },
      "source": [
        "# Week 1. England v Scotland\n",
        "## Colab, Github and a basic prediction"
      ]
    },
    {
      "cell_type": "markdown",
      "metadata": {
        "id": "thPzt79BMiPM"
      },
      "source": [
        "### Import libraries, load the data and clean it up"
      ]
    },
    {
      "cell_type": "code",
      "metadata": {
        "jupyter": {
          "outputs_hidden": false
        },
        "id": "yAERA5VjMiPN"
      },
      "source": [
        "# WHAT THIS DOES\n",
        "# Loads in the Pandas library and names it pd\n",
        "\n",
        "import pandas as pd\n"
      ],
      "execution_count": 34,
      "outputs": []
    },
    {
      "cell_type": "code",
      "metadata": {
        "id": "HI_O_2CsMiPO"
      },
      "source": [
        "# WHAT THIS DOES\n",
        "# Selects the data you'd like to analyse and creates the 'Scotland' dataframe\n",
        "\n",
        "address = 'https://raw.githubusercontent.com/Lord-of-Lite/6_Nations_Data_Challenge/main/England_Scotland_2021.csv'\n",
        "scotland = pd.read_csv(address)"
      ],
      "execution_count": 35,
      "outputs": []
    },
    {
      "cell_type": "code",
      "metadata": {
        "id": "Q9aga8YaMiPO"
      },
      "source": [
        "# WHAT THIS DOES\n",
        "# Let's you have a look at the first 5 lines of the spreadsheet\n",
        "\n",
        "scotland.head(5)\n"
      ],
      "execution_count": null,
      "outputs": []
    },
    {
      "cell_type": "code",
      "metadata": {
        "id": "3H9Vk7ae7jHd"
      },
      "source": [
        "# WHAT THIS DOES\n",
        "# Creates a dataframe called 'test' we'll use for our analysis\n",
        "\n",
        "test = scotland[['Result','Ground']]"
      ],
      "execution_count": 37,
      "outputs": []
    },
    {
      "cell_type": "code",
      "metadata": {
        "colab": {
          "base_uri": "https://localhost:8080/"
        },
        "id": "NUW7-yublcim",
        "outputId": "9e183090-2e18-423e-a7c2-0d16229691fa"
      },
      "source": [
        "# WHAT THIS DOES\n",
        "# Filters dataset using 'or' condition (denoted as '|')\n",
        "\n",
        "test = test.loc[(test['Ground'] == 'Twickenham') | (test['Ground'] == 'Murrayfield')]\n",
        "test.Ground.value_counts()"
      ],
      "execution_count": 38,
      "outputs": [
        {
          "output_type": "execute_result",
          "data": {
            "text/plain": [
              "Twickenham     49\n",
              "Murrayfield    47\n",
              "Name: Ground, dtype: int64"
            ]
          },
          "metadata": {
            "tags": []
          },
          "execution_count": 38
        }
      ]
    },
    {
      "cell_type": "markdown",
      "metadata": {
        "id": "gL5TNB3CMiPP"
      },
      "source": [
        "### Looking at summary statistics"
      ]
    },
    {
      "cell_type": "code",
      "metadata": {
        "colab": {
          "base_uri": "https://localhost:8080/"
        },
        "id": "PDO0hUbg6XVF",
        "outputId": "b6ea2992-35a8-40f2-c55d-1a70ba2cb1dc"
      },
      "source": [
        "# WHAT THIS DOES\n",
        "# Creates crosstabs based on number of events\n",
        "\n",
        "number = pd.crosstab(test.Result, test.Ground)\n",
        "print(number.round(2))\n"
      ],
      "execution_count": 40,
      "outputs": [
        {
          "output_type": "stream",
          "text": [
            "Ground  Murrayfield  Twickenham\n",
            "Result                         \n",
            "draw              4           6\n",
            "lost             22           4\n",
            "won              21          39\n"
          ],
          "name": "stdout"
        }
      ]
    },
    {
      "cell_type": "code",
      "metadata": {
        "colab": {
          "base_uri": "https://localhost:8080/"
        },
        "id": "Ozdw93SAH6dK",
        "outputId": "95206ee8-1420-450d-abcb-c00cdb08d262"
      },
      "source": [
        "# WHAT THIS DOES\n",
        "# Creates crosstabs based on percentage by row\n",
        "\n",
        "percentage = pd.crosstab(test.Result, test.Ground, margins=True, normalize='index')\n",
        "print((percentage*100).round(2))"
      ],
      "execution_count": 41,
      "outputs": [
        {
          "output_type": "stream",
          "text": [
            "Ground  Murrayfield  Twickenham\n",
            "Result                         \n",
            "draw          40.00       60.00\n",
            "lost          84.62       15.38\n",
            "won           35.00       65.00\n",
            "All           48.96       51.04\n"
          ],
          "name": "stdout"
        }
      ]
    },
    {
      "cell_type": "markdown",
      "metadata": {
        "id": "w4Ox1he0ID8X"
      },
      "source": [
        "###Hypothesis test\n",
        "####Chi-squared test of independence"
      ]
    },
    {
      "cell_type": "code",
      "metadata": {
        "id": "ZDllXqD595-I"
      },
      "source": [
        "# WHAT THIS DOES\n",
        "# Loads in the Pandas library and names it pd\n",
        "\n",
        "from scipy.stats import chi2_contingency"
      ],
      "execution_count": 42,
      "outputs": []
    },
    {
      "cell_type": "code",
      "metadata": {
        "colab": {
          "base_uri": "https://localhost:8080/"
        },
        "id": "B4zhdVi8-R86",
        "outputId": "7c978df3-f796-4289-af3a-c596dddb2ee8"
      },
      "source": [
        "#test.index_col='Result'\n",
        "\n",
        "#SciPy’s chi2_contingency() returns four values, 𝜒2 value, p-value, degree of freedom and expected values.\n",
        "chi2_contingency(number)"
      ],
      "execution_count": 43,
      "outputs": [
        {
          "output_type": "execute_result",
          "data": {
            "text/plain": [
              "(18.22778315909015,\n",
              " 0.00011012531872014555,\n",
              " 2,\n",
              " array([[ 4.89583333,  5.10416667],\n",
              "        [12.72916667, 13.27083333],\n",
              "        [29.375     , 30.625     ]]))"
            ]
          },
          "metadata": {
            "tags": []
          },
          "execution_count": 43
        }
      ]
    },
    {
      "cell_type": "code",
      "metadata": {
        "colab": {
          "base_uri": "https://localhost:8080/",
          "height": 142
        },
        "id": "LPWIjU5fCyv2",
        "outputId": "248ab0fa-44b8-4a2c-de75-cfa2071d11bc"
      },
      "source": [
        "# Tidy up what's in the array\n",
        "\n",
        "df=chi2_contingency(number)[3]\n",
        "pd.DataFrame(\n",
        "    data=df[:,:],\n",
        "    index = ['draw','lost','won'],\n",
        "    columns = ['Murrayfield','Twickenham']\n",
        ").round(0)"
      ],
      "execution_count": 44,
      "outputs": [
        {
          "output_type": "execute_result",
          "data": {
            "text/html": [
              "<div>\n",
              "<style scoped>\n",
              "    .dataframe tbody tr th:only-of-type {\n",
              "        vertical-align: middle;\n",
              "    }\n",
              "\n",
              "    .dataframe tbody tr th {\n",
              "        vertical-align: top;\n",
              "    }\n",
              "\n",
              "    .dataframe thead th {\n",
              "        text-align: right;\n",
              "    }\n",
              "</style>\n",
              "<table border=\"1\" class=\"dataframe\">\n",
              "  <thead>\n",
              "    <tr style=\"text-align: right;\">\n",
              "      <th></th>\n",
              "      <th>Murrayfield</th>\n",
              "      <th>Twickenham</th>\n",
              "    </tr>\n",
              "  </thead>\n",
              "  <tbody>\n",
              "    <tr>\n",
              "      <th>draw</th>\n",
              "      <td>5.0</td>\n",
              "      <td>5.0</td>\n",
              "    </tr>\n",
              "    <tr>\n",
              "      <th>lost</th>\n",
              "      <td>13.0</td>\n",
              "      <td>13.0</td>\n",
              "    </tr>\n",
              "    <tr>\n",
              "      <th>won</th>\n",
              "      <td>29.0</td>\n",
              "      <td>31.0</td>\n",
              "    </tr>\n",
              "  </tbody>\n",
              "</table>\n",
              "</div>"
            ],
            "text/plain": [
              "      Murrayfield  Twickenham\n",
              "draw          5.0         5.0\n",
              "lost         13.0        13.0\n",
              "won          29.0        31.0"
            ]
          },
          "metadata": {
            "tags": []
          },
          "execution_count": 44
        }
      ]
    },
    {
      "cell_type": "code",
      "metadata": {
        "colab": {
          "base_uri": "https://localhost:8080/"
        },
        "id": "1c_n5-S549Kb",
        "outputId": "a4e13d9a-813e-43bb-e3f7-3a84cc7d8ad3"
      },
      "source": [
        "#Critical values\n",
        "# The level of significance and degree of freedom can be used to find the critical value.\n",
        "# To find critical values, you need to import chi2 from scipy.state and define probability from the level of significance\n",
        "\n",
        "from scipy.stats import chi2\n",
        "significance = 0.01\n",
        "p = 1 - significance\n",
        "dof = chi2_contingency(number)[2]\n",
        "critical_value = chi2.ppf(p, dof)\n",
        "critical_value.round(2)"
      ],
      "execution_count": 45,
      "outputs": [
        {
          "output_type": "execute_result",
          "data": {
            "text/plain": [
              "9.21"
            ]
          },
          "metadata": {
            "tags": []
          },
          "execution_count": 45
        }
      ]
    },
    {
      "cell_type": "code",
      "metadata": {
        "colab": {
          "base_uri": "https://localhost:8080/"
        },
        "id": "VmE7Vqze5otc",
        "outputId": "7ea732e0-7606-4221-bfbe-b9642951e62a"
      },
      "source": [
        "# The null and alternative hypotheses\n",
        "\n",
        "chi, pval, dof, exp = chi2_contingency(number)\n",
        "print('p-value is: ', pval)\n",
        "significance = 0.01\n",
        "p = 1 - significance\n",
        "critical_value = chi2.ppf(p, dof)\n",
        "print('chi=%.6f, critical value=%.6f\\n' % (chi, critical_value))\n",
        "if chi > critical_value:\n",
        "    print(\"\"\"At %.2f level of significance, we reject the null hypotheses and accept H1. \n",
        "They are not independent.\"\"\" % (significance))\n",
        "else:\n",
        "    print(\"\"\"At %.2f level of significance, we accept the null hypotheses. \n",
        "They are independent.\"\"\" % (significance))\n"
      ],
      "execution_count": 46,
      "outputs": [
        {
          "output_type": "stream",
          "text": [
            "p-value is:  0.00011012531872014555\n",
            "chi=18.227783, critical value=9.210340\n",
            "\n",
            "At 0.01 level of significance, we reject the null hypotheses and accept H1. \n",
            "They are not independent.\n"
          ],
          "name": "stdout"
        }
      ]
    },
    {
      "cell_type": "markdown",
      "metadata": {
        "id": "OYSdVgGaMiPS"
      },
      "source": [
        "## Useful links"
      ]
    },
    {
      "cell_type": "markdown",
      "metadata": {
        "id": "B77FcmHxMiPS"
      },
      "source": [
        "If you'd like to explore further what we've learned this week, here are some useful links:\n",
        "\n",
        "- [Gentle Introduction to Chi-Square Test for Independence](https://towardsdatascience.com/gentle-introduction-to-chi-square-test-for-independence-7182a7414a95#92ef)\n",
        "\n",
        "- [Comparison of the Chi-Square Tests](https://philschatz.com/statistics-book/contents/m47082.html)\n",
        "\n",
        "- [Pandas](https://pandas.pydata.org/pandas-docs/stable/)"
      ]
    }
  ]
}