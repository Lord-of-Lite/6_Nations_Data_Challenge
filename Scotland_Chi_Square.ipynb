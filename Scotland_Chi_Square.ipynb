{
  "nbformat": 4,
  "nbformat_minor": 0,
  "metadata": {
    "anaconda-cloud": {},
    "kernelspec": {
      "display_name": "Python 3",
      "language": "python",
      "name": "python3"
    },
    "language_info": {
      "codemirror_mode": {
        "name": "ipython",
        "version": 3
      },
      "file_extension": ".py",
      "mimetype": "text/x-python",
      "name": "python",
      "nbconvert_exporter": "python",
      "pygments_lexer": "ipython3",
      "version": "3.7.4"
    },
    "colab": {
      "name": "Scotland_Chi_Square.ipynb",
      "provenance": [],
      "include_colab_link": true
    }
  },
  "cells": [
    {
      "cell_type": "markdown",
      "metadata": {
        "id": "view-in-github",
        "colab_type": "text"
      },
      "source": [
        "<a href=\"https://colab.research.google.com/github/Lord-of-Lite/6_Nations_Data_Challenge/blob/main/Scotland_Chi_Square.ipynb\" target=\"_parent\"><img src=\"https://colab.research.google.com/assets/colab-badge.svg\" alt=\"Open In Colab\"/></a>"
      ]
    },
    {
      "cell_type": "markdown",
      "metadata": {
        "id": "zraPDMK0MiPE"
      },
      "source": [
        "#England v Scotland\n",
        "\n",
        "---\n",
        "\n",
        "Testing home advantage using Chi-squared test of independence"
      ]
    },
    {
      "cell_type": "markdown",
      "metadata": {
        "id": "thPzt79BMiPM"
      },
      "source": [
        "### Import libraries, load the data and clean it up"
      ]
    },
    {
      "cell_type": "code",
      "metadata": {
        "jupyter": {
          "outputs_hidden": false
        },
        "id": "yAERA5VjMiPN"
      },
      "source": [
        "# WHAT THIS DOES\n",
        "# Loads in the Pandas library and names it pd\n",
        "\n",
        "import pandas as pd\n"
      ],
      "execution_count": null,
      "outputs": []
    },
    {
      "cell_type": "code",
      "metadata": {
        "id": "HI_O_2CsMiPO"
      },
      "source": [
        "# WHAT THIS DOES\n",
        "# Selects the data you'd like to analyse and creates the 'Scotland' dataframe\n",
        "\n",
        "address = 'https://raw.githubusercontent.com/Lord-of-Lite/6_Nations_Data_Challenge/main/England_Scotland_2021.csv'\n",
        "scotland = pd.read_csv(address)"
      ],
      "execution_count": null,
      "outputs": []
    },
    {
      "cell_type": "code",
      "metadata": {
        "id": "Q9aga8YaMiPO"
      },
      "source": [
        "# WHAT THIS DOES\n",
        "# Let's you have a look at the first 5 lines of the spreadsheet\n",
        "\n",
        "scotland.head(5)\n"
      ],
      "execution_count": null,
      "outputs": []
    },
    {
      "cell_type": "code",
      "metadata": {
        "id": "3H9Vk7ae7jHd"
      },
      "source": [
        "# WHAT THIS DOES\n",
        "# Creates a dataframe called 'test' we'll use for our analysis\n",
        "\n",
        "test = scotland[['Result','Ground']]"
      ],
      "execution_count": null,
      "outputs": []
    },
    {
      "cell_type": "code",
      "metadata": {
        "id": "NUW7-yublcim"
      },
      "source": [
        "# WHAT THIS DOES\n",
        "# Filters dataset using 'or' condition (denoted as '|')\n",
        "\n",
        "test = test.loc[(test['Ground'] == 'Twickenham') | (test['Ground'] == 'Murrayfield')]\n",
        "test.Ground.value_counts()"
      ],
      "execution_count": null,
      "outputs": []
    },
    {
      "cell_type": "markdown",
      "metadata": {
        "id": "gL5TNB3CMiPP"
      },
      "source": [
        "### Looking at summary statistics"
      ]
    },
    {
      "cell_type": "code",
      "metadata": {
        "id": "PDO0hUbg6XVF"
      },
      "source": [
        "# WHAT THIS DOES\n",
        "# Creates crosstabs based on number of events\n",
        "\n",
        "number = pd.crosstab(test.Result, test.Ground)\n",
        "print(number.round(2))\n"
      ],
      "execution_count": null,
      "outputs": []
    },
    {
      "cell_type": "code",
      "metadata": {
        "id": "Ozdw93SAH6dK"
      },
      "source": [
        "# WHAT THIS DOES\n",
        "# Creates crosstabs based on percentage by row\n",
        "\n",
        "percentage = pd.crosstab(test.Result, test.Ground, margins=True, normalize='index')\n",
        "print((percentage*100).round(2))"
      ],
      "execution_count": null,
      "outputs": []
    },
    {
      "cell_type": "markdown",
      "metadata": {
        "id": "w4Ox1he0ID8X"
      },
      "source": [
        "###Hypothesis test\n",
        "####Chi-squared test of independence"
      ]
    },
    {
      "cell_type": "code",
      "metadata": {
        "id": "ZDllXqD595-I"
      },
      "source": [
        "# WHAT THIS DOES\n",
        "# Loads in the Pandas library and names it pd\n",
        "\n",
        "from scipy.stats import chi2_contingency"
      ],
      "execution_count": null,
      "outputs": []
    },
    {
      "cell_type": "code",
      "metadata": {
        "id": "B4zhdVi8-R86"
      },
      "source": [
        "#test.index_col='Result'\n",
        "\n",
        "#SciPy’s chi2_contingency() returns four values, 𝜒2 value, p-value, degree of freedom and expected values.\n",
        "chi2_contingency(number)"
      ],
      "execution_count": null,
      "outputs": []
    },
    {
      "cell_type": "code",
      "metadata": {
        "id": "LPWIjU5fCyv2"
      },
      "source": [
        "# Tidy up what's in the array\n",
        "\n",
        "df=chi2_contingency(number)[3]\n",
        "pd.DataFrame(\n",
        "    data=df[:,:],\n",
        "    index = ['draw','lost','won'],\n",
        "    columns = ['Murrayfield','Twickenham']\n",
        ").round(0)"
      ],
      "execution_count": null,
      "outputs": []
    },
    {
      "cell_type": "code",
      "metadata": {
        "id": "1c_n5-S549Kb"
      },
      "source": [
        "#Critical values\n",
        "# The level of significance and degree of freedom can be used to find the critical value.\n",
        "# To find critical values, you need to import chi2 from scipy.state and define probability from the level of significance\n",
        "\n",
        "from scipy.stats import chi2\n",
        "significance = 0.01\n",
        "p = 1 - significance\n",
        "dof = chi2_contingency(number)[2]\n",
        "critical_value = chi2.ppf(p, dof)\n",
        "critical_value.round(2)"
      ],
      "execution_count": null,
      "outputs": []
    },
    {
      "cell_type": "code",
      "metadata": {
        "id": "VmE7Vqze5otc"
      },
      "source": [
        "# The null and alternative hypotheses\n",
        "\n",
        "chi, pval, dof, exp = chi2_contingency(number)\n",
        "print('p-value is: ', pval)\n",
        "significance = 0.01\n",
        "p = 1 - significance\n",
        "critical_value = chi2.ppf(p, dof)\n",
        "print('chi=%.6f, critical value=%.6f\\n' % (chi, critical_value))\n",
        "if chi > critical_value:\n",
        "    print(\"\"\"At %.2f level of significance, we reject the null hypotheses and accept H1. \n",
        "They are not independent.\"\"\" % (significance))\n",
        "else:\n",
        "    print(\"\"\"At %.2f level of significance, we accept the null hypotheses. \n",
        "They are independent.\"\"\" % (significance))\n"
      ],
      "execution_count": null,
      "outputs": []
    },
    {
      "cell_type": "markdown",
      "metadata": {
        "id": "OYSdVgGaMiPS"
      },
      "source": [
        "## Useful links"
      ]
    },
    {
      "cell_type": "markdown",
      "metadata": {
        "id": "B77FcmHxMiPS"
      },
      "source": [
        "If you'd like to explore further what we've learned this week, here are some useful links:\n",
        "\n",
        "- [Gentle Introduction to Chi-Square Test for Independence](https://towardsdatascience.com/gentle-introduction-to-chi-square-test-for-independence-7182a7414a95#92ef)\n",
        "\n",
        "- [Comparison of the Chi-Square Tests](https://philschatz.com/statistics-book/contents/m47082.html)\n",
        "\n",
        "- [Pandas](https://pandas.pydata.org/pandas-docs/stable/)"
      ]
    }
  ]
}